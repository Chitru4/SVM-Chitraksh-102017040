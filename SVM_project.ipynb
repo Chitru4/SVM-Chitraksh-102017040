{
  "nbformat": 4,
  "nbformat_minor": 0,
  "metadata": {
    "colab": {
      "provenance": [],
      "authorship_tag": "ABX9TyPCpOX3F60kkAQCf12ig9Ek",
      "include_colab_link": true
    },
    "kernelspec": {
      "name": "ir",
      "display_name": "R"
    },
    "language_info": {
      "name": "R"
    }
  },
  "cells": [
    {
      "cell_type": "markdown",
      "metadata": {
        "id": "view-in-github",
        "colab_type": "text"
      },
      "source": [
        "<a href=\"https://colab.research.google.com/github/Chitru4/SVM-Chitraksh-102017040/blob/main/SVM_project.ipynb\" target=\"_parent\"><img src=\"https://colab.research.google.com/assets/colab-badge.svg\" alt=\"Open In Colab\"/></a>"
      ]
    },
    {
      "cell_type": "code",
      "execution_count": 3,
      "metadata": {
        "colab": {
          "base_uri": "https://localhost:8080/"
        },
        "id": "vLus3E-4Ajt4",
        "outputId": "31823cf5-0b4c-4bf0-87f3-ef21b155abb1"
      },
      "outputs": [
        {
          "output_type": "stream",
          "name": "stderr",
          "text": [
            "Installing package into ‘/usr/local/lib/R/site-library’\n",
            "(as ‘lib’ is unspecified)\n",
            "\n"
          ]
        }
      ],
      "source": [
        "install.packages('kernlab')\n",
        "library(kernlab)\n",
        "\n",
        "bestAccuracy = 0\n",
        "bestKernal = \"\"\n",
        "bestNu = \"\"\n",
        "bestEpsilon = \"\"\n",
        "iteration = 100\n",
        "kernalList = c(\"rbfdot\",\"polydot\",\"vanilladot\",\"tanhdot\",\"laplacedot\",\"anovadot\")"
      ]
    },
    {
      "cell_type": "code",
      "source": [
        "fitnessFunction = function(k,n,e,train_x,train_y,test_x,test_y){\n",
        "model = ksvm(train_x, train_y, kernel=k, nu = n, epsilon = e, kpar=list())\n",
        "predicted = round(predict(svp, data = test_x))\n",
        "accuracy = round(mean(test_y==predicted) *100,2)\n",
        "return (accuracy)\n",
        "}"
      ],
      "metadata": {
        "id": "tkkgz_kCBJyj"
      },
      "execution_count": 4,
      "outputs": []
    },
    {
      "cell_type": "code",
      "source": [
        "k = sample(kernalList, 1)\n",
        "n = runif(1)\n",
        "e = runif(1)\n",
        "Accuracy = fitnessFunction(k,n,e,train_x,train_y,test_x,test_y)"
      ],
      "metadata": {
        "colab": {
          "base_uri": "https://localhost:8080/",
          "height": 240
        },
        "id": "4QYezxV8BQIU",
        "outputId": "d1c100b8-da09-41a8-b3de-c0e9f6a2d298"
      },
      "execution_count": 7,
      "outputs": [
        {
          "output_type": "error",
          "ename": "ERROR",
          "evalue": "ignored",
          "traceback": [
            "Error in h(simpleError(msg, call)): error in evaluating the argument 'x' in selecting a method for function 'ksvm': object 'train_x' not found\nTraceback:\n",
            "1. fitnessFunction(k, n, e, train_x, train_y, test_x, test_y)",
            "2. ksvm(train_x, train_y, kernel = k, nu = n, epsilon = e, kpar = list())   # at line 2 of file <text>",
            "3. .handleSimpleError(function (cond) \n . .Internal(C_tryCatchHelper(addr, 1L, cond)), \"object 'train_x' not found\", \n .     base::quote(ksvm(train_x, train_y, kernel = k, nu = n, epsilon = e, \n .         kpar = list())))",
            "4. h(simpleError(msg, call))"
          ]
        }
      ]
    },
    {
      "cell_type": "code",
      "source": [],
      "metadata": {
        "id": "KiHCAi7iBQ25"
      },
      "execution_count": null,
      "outputs": []
    }
  ]
}